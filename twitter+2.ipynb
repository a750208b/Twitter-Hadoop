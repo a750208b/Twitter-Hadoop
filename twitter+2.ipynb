{
 "cells": [
  {
   "cell_type": "code",
   "execution_count": null,
   "metadata": {},
   "outputs": [],
   "source": [
    "from tweepy import Stream, OAuthHandler\n",
    "from tweepy.streaming import StreamListener\n",
    "from progressbar import ProgressBar, Percentage, Bar\n",
    "import json\n",
    "import sys\n",
    "\n"
   ]
  },
  {
   "cell_type": "code",
   "execution_count": null,
   "metadata": {
    "collapsed": true
   },
   "outputs": [],
   "source": [
    "#Twitter app information\n",
    "consumer_secret='YBzLzvRps6bXuTqYwzkS6IvuWxBOFYI6U95dOco8mJrH45KbG9'\n",
    "consumer_key='uqeurF0j7qCOEKy3Fz0zTLnLH'\n",
    "access_token='769009179537399808-5m2rIqJZhB1mVRwMkE9AinFFfPOtmNT'\n",
    "access_token_secret='ojL4HtPBAnFzJr98b5Fla37lBcZsPi3tU5hc1y7aAxXUK'\n",
    "\n"
   ]
  },
  {
   "cell_type": "code",
   "execution_count": null,
   "metadata": {},
   "outputs": [],
   "source": [
    "#The number of tweets we want to get\n",
    "max_tweets=100000\n",
    "\n",
    "#Create the listener class that receives and saves tweets\n",
    "class listener(StreamListener):\n",
    "    #On init, set the counter to zero and create a progress bar\n",
    "    def __init__(self, api=None):\n",
    "        self.num_tweets = 0\n",
    "        self.pbar = ProgressBar(widgets=[Percentage(), Bar()], maxval=max_tweets).start()\n",
    "\n",
    "    #When data is received, do this\n",
    "    def on_data(self, data):\n",
    "        #Append the tweet to the 'tweets.txt' file\n",
    "        with open('/Users/zoec/Documents/cus680/project/twitter2.json', 'a') as tweet_file:\n",
    "            tweet_file.write(data)\n",
    "            #Increment the number of tweets\n",
    "            self.num_tweets += 1\n",
    "            #Check to see if we have hit max_tweets and exit if so\n",
    "            if self.num_tweets >= max_tweets:\n",
    "                self.pbar.finish()\n",
    "                sys.exit(0)\n",
    "            else:\n",
    "                #increment the progress bar\n",
    "                self.pbar.update(self.num_tweets)\n",
    "        return True\n",
    "\n",
    "    #Handle any errors that may occur\n",
    "    def on_error(self, status):\n",
    "        print (status)\n",
    "\n",
    "#Get the OAuth token\n",
    "auth = OAuthHandler(consumer_key, consumer_secret)\n",
    "auth.set_access_token(access_token, access_token_secret)\n",
    "#Use the listener class for stream processing\n",
    "twitterStream = Stream(auth, listener())\n",
    "#Filter for these topics\n",
    "twitterStream.filter(track=[\"java\",\"python\",\"sql\"])"
   ]
  },
  {
   "cell_type": "code",
   "execution_count": null,
   "metadata": {},
   "outputs": [],
   "source": [
    "import json\n",
    "import pandas as pd \n",
    "tweet_files = ['/Users/zoec/Documents/cus680/project/twitter2.json']\n",
    "tweets = []\n",
    "for file in tweet_files:\n",
    "    with open(file, 'r') as f:\n",
    "        for line in f.readlines():\n",
    "            tweets.append(json.loads(line))"
   ]
  },
  {
   "cell_type": "code",
   "execution_count": null,
   "metadata": {
    "collapsed": true
   },
   "outputs": [],
   "source": [
    "print(tweets)"
   ]
  },
  {
   "cell_type": "code",
   "execution_count": null,
   "metadata": {
    "collapsed": true
   },
   "outputs": [],
   "source": [
    "df = pd.DataFrame()\n",
    "df['id'] = list(map(lambda tweet: tweet['id'], tweets))\n",
    "df['text'] = list(map(lambda tweet: tweet['text'].strip(';').encode('utf-8'), tweets))\n",
    "df['user'] = list(map(lambda tweet: tweet['user']['screen_name'], tweets))\n",
    "df['friends_count'] = list(map(lambda tweet: tweet['user']['friends_count'], tweets))\n",
    "df['statuses_count'] = list(map(lambda tweet: tweet['user']['statuses_count'], tweets))\n",
    "df['listed_count'] = list(map(lambda tweet: tweet['user']['listed_count'], tweets))\n",
    "df['followers_count'] = list(map(lambda tweet: tweet['user']['followers_count'], tweets))\n",
    "df['en']=list(map(lambda tweet: tweet['user']['lang'], tweets))\n",
    "df"
   ]
  },
  {
   "cell_type": "code",
   "execution_count": null,
   "metadata": {
    "collapsed": true
   },
   "outputs": [],
   "source": [
    "df['text'] = df['text'].replace(' #', ' ')\n",
    "df['text'] = df['text'].replace('\\n', ' ')\n",
    "df['text'] = df['text'].replace('\\/', ' ')"
   ]
  },
  {
   "cell_type": "code",
   "execution_count": null,
   "metadata": {
    "collapsed": true
   },
   "outputs": [],
   "source": [
    "df.head(20)"
   ]
  },
  {
   "cell_type": "code",
   "execution_count": null,
   "metadata": {
    "collapsed": true
   },
   "outputs": [],
   "source": [
    "df.to_csv(r'/Users/zoec/Documents/cus680/project/final_twitter.csv',header= False,index =False,sep = '\\t')"
   ]
  }
 ],
 "metadata": {
  "kernelspec": {
   "display_name": "Python 3",
   "language": "python",
   "name": "python3"
  },
  "language_info": {
   "codemirror_mode": {
    "name": "ipython",
    "version": 3
   },
   "file_extension": ".py",
   "mimetype": "text/x-python",
   "name": "python",
   "nbconvert_exporter": "python",
   "pygments_lexer": "ipython3",
   "version": "3.6.3"
  }
 },
 "nbformat": 4,
 "nbformat_minor": 2
}
